{
  "nbformat": 4,
  "nbformat_minor": 0,
  "metadata": {
    "colab": {
      "name": "Untitled5.ipynb",
      "provenance": [],
      "collapsed_sections": []
    },
    "kernelspec": {
      "name": "python3",
      "display_name": "Python 3"
    }
  },
  "cells": [
    {
      "cell_type": "markdown",
      "metadata": {
        "id": "7qUzQTiPgzAo",
        "colab_type": "text"
      },
      "source": [
        "QUESTION NO. 1\n",
        "\n",
        "Research on whether addition, subtraction, multiplication, division, floor division, and modulo operations\n",
        "be performed on complex numbers. Based on your study, implement a Python program to demonstrate\n",
        "these operations."
      ]
    },
    {
      "cell_type": "code",
      "metadata": {
        "id": "Bi6EHpebg5r0",
        "colab_type": "code",
        "colab": {
          "base_uri": "https://localhost:8080/",
          "height": 51
        },
        "outputId": "f569ed64-5b85-46eb-ef3e-a8a5725be95b"
      },
      "source": [
        "a= complex(1,2)\n",
        "b=complex(2,4)\n",
        "\n",
        "print(a)\n",
        "print(b)"
      ],
      "execution_count": 1,
      "outputs": [
        {
          "output_type": "stream",
          "text": [
            "(1+2j)\n",
            "(2+4j)\n"
          ],
          "name": "stdout"
        }
      ]
    },
    {
      "cell_type": "code",
      "metadata": {
        "id": "CIWy50eBhDbj",
        "colab_type": "code",
        "colab": {
          "base_uri": "https://localhost:8080/",
          "height": 85
        },
        "outputId": "d866a5d7-4dc3-44cb-bba9-655935ced741"
      },
      "source": [
        "a= complex(1,2)\n",
        "b=complex(2,4)\n",
        "\n",
        "addition = a+b\n",
        "print(\"addition = \",addition)\n",
        "\n",
        "\n",
        "subtraction = a-b\n",
        "print(\"subtraction = \",subtraction)\n",
        "\n",
        "\n",
        "multiplication = a*b\n",
        "print(\"multiplicatiom = \",multiplication)\n",
        "\n",
        "division = a/b\n",
        "print(\"division = \",division)\n",
        "\n",
        "\n",
        "#modulus \n",
        "\n",
        "#modulus = a%b\n",
        "#print(\"modulus = \",modulus)\n",
        "\n",
        "#error= TypeError: can't mod complex numbers."
      ],
      "execution_count": 7,
      "outputs": [
        {
          "output_type": "stream",
          "text": [
            "addition =  (3+6j)\n",
            "subtraction =  (-1-2j)\n",
            "multiplicatiom =  (-6+8j)\n",
            "division =  (0.5+0j)\n"
          ],
          "name": "stdout"
        }
      ]
    },
    {
      "cell_type": "markdown",
      "metadata": {
        "id": "DGlys8NJiQT3",
        "colab_type": "text"
      },
      "source": [
        "  Question 2 :\n",
        "  \n",
        "Research on range() functions and its parameters. Create a markdown cell and write in your own words\n",
        "(no copy-paste from google please) what you understand about it. Implement a small program of your\n",
        "choice on the same."
      ]
    },
    {
      "cell_type": "code",
      "metadata": {
        "id": "VqDB26J5iCpg",
        "colab_type": "code",
        "colab": {
          "base_uri": "https://localhost:8080/",
          "height": 34
        },
        "outputId": "1cc73a7a-cbb9-4f39-f9b1-db7f6c058cfa"
      },
      "source": [
        "a = list(range(10))\n",
        "print(a)"
      ],
      "execution_count": 11,
      "outputs": [
        {
          "output_type": "stream",
          "text": [
            "[0, 1, 2, 3, 4, 5, 6, 7, 8, 9]\n"
          ],
          "name": "stdout"
        }
      ]
    },
    {
      "cell_type": "markdown",
      "metadata": {
        "id": "EcwYU-Koi4Jv",
        "colab_type": "text"
      },
      "source": [
        "ABOUT RANGE FUNCTION --->\n",
        "\n",
        "if you enter one one value in range then\n",
        "--> range(stop_value)\n",
        "\n",
        "if you entee two parameters in range then\n",
        "--> range(start_value,stop_value)\n",
        "\n",
        "if you enter three parameters in range then\n",
        "--> range(start_value,stop_value,step_size)\n",
        "\n",
        "\n"
      ]
    },
    {
      "cell_type": "code",
      "metadata": {
        "id": "vzXhKCNWj_Md",
        "colab_type": "code",
        "colab": {
          "base_uri": "https://localhost:8080/",
          "height": 34
        },
        "outputId": "de13d5a4-a1de-4c08-f94c-87342837cf53"
      },
      "source": [
        "b= tuple((range(1,11)))\n",
        "print(b)"
      ],
      "execution_count": 13,
      "outputs": [
        {
          "output_type": "stream",
          "text": [
            "(1, 2, 3, 4, 5, 6, 7, 8, 9, 10)\n"
          ],
          "name": "stdout"
        }
      ]
    },
    {
      "cell_type": "code",
      "metadata": {
        "id": "Nrsu2WlgkFfA",
        "colab_type": "code",
        "colab": {
          "base_uri": "https://localhost:8080/",
          "height": 34
        },
        "outputId": "b6255c4c-82f3-43fd-c492-3a94bca82f07"
      },
      "source": [
        "c=list((range(0,101,5)))\n",
        "print(c)"
      ],
      "execution_count": 17,
      "outputs": [
        {
          "output_type": "stream",
          "text": [
            "[0, 5, 10, 15, 20, 25, 30, 35, 40, 45, 50, 55, 60, 65, 70, 75, 80, 85, 90, 95, 100]\n"
          ],
          "name": "stdout"
        }
      ]
    },
    {
      "cell_type": "markdown",
      "metadata": {
        "id": "JqibQnrGkbTL",
        "colab_type": "text"
      },
      "source": [
        "Question 3:\n",
        "\n",
        "Consider two numbers. Perform their subtraction and if the result of subtraction is greater than 25, print\n",
        "their multiplication result else print their division result."
      ]
    },
    {
      "cell_type": "code",
      "metadata": {
        "id": "KEBhnibAkkKC",
        "colab_type": "code",
        "colab": {
          "base_uri": "https://localhost:8080/",
          "height": 34
        },
        "outputId": "ccb2a0a9-8b69-4e94-f296-03c42d2586b8"
      },
      "source": [
        "a=39\n",
        "b=31\n",
        "\n",
        "c= a-b\n",
        "\n",
        "if c>25:\n",
        "  print(\"multiplication result of the two given nums are --->\",a*b)\n",
        "else:\n",
        "  print(\"division result of the two given nums are --->\",a/b)"
      ],
      "execution_count": 22,
      "outputs": [
        {
          "output_type": "stream",
          "text": [
            "division result of the two given nums are ---> 1.2580645161290323\n"
          ],
          "name": "stdout"
        }
      ]
    },
    {
      "cell_type": "code",
      "metadata": {
        "id": "gwj0OgGTk26d",
        "colab_type": "code",
        "colab": {
          "base_uri": "https://localhost:8080/",
          "height": 34
        },
        "outputId": "0c560095-2b3c-497e-eeb5-9ade04eb068c"
      },
      "source": [
        "a=100\n",
        "b=31\n",
        "\n",
        "c= a-b\n",
        "\n",
        "if c>25:\n",
        "  print(\"multiplication result of the two given nums are --->\",a*b)\n",
        "else:\n",
        "  print(\"division result of the two given nums are --->\",a/b)"
      ],
      "execution_count": 23,
      "outputs": [
        {
          "output_type": "stream",
          "text": [
            "multiplication result of the two given nums are ---> 3100\n"
          ],
          "name": "stdout"
        }
      ]
    },
    {
      "cell_type": "markdown",
      "metadata": {
        "id": "QUOMgP5-l0Yf",
        "colab_type": "text"
      },
      "source": [
        "Question 4:\n",
        "\n",
        "Consider a list of 10 elements of integer values. If the number in the list is divisible by 2, print the result as\n",
        "\"square of that number minus 2\"."
      ]
    },
    {
      "cell_type": "code",
      "metadata": {
        "id": "XsrJpy1Bl3gi",
        "colab_type": "code",
        "colab": {
          "base_uri": "https://localhost:8080/",
          "height": 442
        },
        "outputId": "ff5a4e5c-f41d-4e11-9fc1-00b4cd098c07"
      },
      "source": [
        "lst1=[]\n",
        "for i in range(1,11):\n",
        "  a = int(input(\"enter a list {} \\n\".format(i)))\n",
        "  lst1.append(a)\n",
        "\n",
        "\n",
        "for i in lst1:\n",
        "  if i%2==0:\n",
        "    print(\"square of {}  minus 2\".format(i))\n",
        "  "
      ],
      "execution_count": 50,
      "outputs": [
        {
          "output_type": "stream",
          "text": [
            "enter a list 1 \n",
            "1\n",
            "enter a list 2 \n",
            "2\n",
            "enter a list 3 \n",
            "3\n",
            "enter a list 4 \n",
            "4\n",
            "enter a list 5 \n",
            "5\n",
            "enter a list 6 \n",
            "6\n",
            "enter a list 7 \n",
            "7\n",
            "enter a list 8 \n",
            "8\n",
            "enter a list 9 \n",
            "9\n",
            "enter a list 10 \n",
            "10\n",
            "square of 2  minus 2\n",
            "square of 4  minus 2\n",
            "square of 6  minus 2\n",
            "square of 8  minus 2\n",
            "square of 10  minus 2\n"
          ],
          "name": "stdout"
        }
      ]
    },
    {
      "cell_type": "markdown",
      "metadata": {
        "id": "8Q5Huj2rxQCF",
        "colab_type": "text"
      },
      "source": [
        "Question 5:\n",
        "\n",
        "Consider a list of 10 elements. Print all the elements in the list which are greater than 7 when that number\n",
        "is divided 2."
      ]
    },
    {
      "cell_type": "code",
      "metadata": {
        "id": "_bC3Odfvxcug",
        "colab_type": "code",
        "colab": {
          "base_uri": "https://localhost:8080/",
          "height": 527
        },
        "outputId": "94ef4829-a1f2-4b5d-ab89-2aca1269cefa"
      },
      "source": [
        "lst1=[]\n",
        "for i in range(1,11):\n",
        "  a = int(input(\"enter a list {} \\n\".format(i)))\n",
        "  lst1.append(a)\n",
        "  \n",
        "for i in lst1:\n",
        "  if i>=15 :\n",
        "    print(\"number in the list which are greater than 7 when that number is divided by 2 is--->\")\n",
        "    print(i)\n"
      ],
      "execution_count": 56,
      "outputs": [
        {
          "output_type": "stream",
          "text": [
            "enter a list 1 \n",
            "1\n",
            "enter a list 2 \n",
            "2\n",
            "enter a list 3 \n",
            "3\n",
            "enter a list 4 \n",
            "4\n",
            "enter a list 5 \n",
            "5\n",
            "enter a list 6 \n",
            "15\n",
            "enter a list 7 \n",
            "16\n",
            "enter a list 8 \n",
            "17\n",
            "enter a list 9 \n",
            "18\n",
            "enter a list 10 \n",
            "19\n",
            "number in the list which are greater than 7 when that number is divided by 2 is--->\n",
            "15\n",
            "number in the list which are greater than 7 when that number is divided by 2 is--->\n",
            "16\n",
            "number in the list which are greater than 7 when that number is divided by 2 is--->\n",
            "17\n",
            "number in the list which are greater than 7 when that number is divided by 2 is--->\n",
            "18\n",
            "number in the list which are greater than 7 when that number is divided by 2 is--->\n",
            "19\n"
          ],
          "name": "stdout"
        }
      ]
    },
    {
      "cell_type": "code",
      "metadata": {
        "id": "6oSKeQbDyiHw",
        "colab_type": "code",
        "colab": {}
      },
      "source": [
        ""
      ],
      "execution_count": null,
      "outputs": []
    }
  ]
}