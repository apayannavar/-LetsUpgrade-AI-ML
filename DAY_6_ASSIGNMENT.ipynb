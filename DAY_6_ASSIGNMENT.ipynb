{
  "nbformat": 4,
  "nbformat_minor": 0,
  "metadata": {
    "colab": {
      "name": "DAY_6_ASSIGNMENT.ipynb",
      "provenance": [],
      "collapsed_sections": []
    },
    "kernelspec": {
      "name": "python3",
      "display_name": "Python 3"
    }
  },
  "cells": [
    {
      "cell_type": "markdown",
      "metadata": {
        "id": "tTHbW3PSTiEp",
        "colab_type": "text"
      },
      "source": [
        "Question 1 :\n",
        "\n",
        "Assuming that we have some email addresses in the \"username@companyname.com\" format, please\n",
        "write a program to print the company name of a given email address. Both user names and company\n",
        "names are composed of letters only.\n",
        "Input Format:\n",
        "The first line of the input contains an email address.\n",
        "Output Format:\n",
        "Print the company name in a single line.\n",
        "Example;\n",
        "Input:\n",
        "john@google.com\n",
        "Output:\n",
        "google."
      ]
    },
    {
      "cell_type": "code",
      "metadata": {
        "id": "SrSr6UnBTkBY",
        "colab_type": "code",
        "colab": {
          "base_uri": "https://localhost:8080/",
          "height": 50
        },
        "outputId": "7c70b0d7-4d1d-4477-d773-445793bbce16"
      },
      "source": [
        "a=input(\"enter your email address:\")\n",
        "\n",
        "x =a.find(\"@\")\n",
        "y=a.find(\".\")\n",
        "z = print(a[x+1:y])\n"
      ],
      "execution_count": 10,
      "outputs": [
        {
          "output_type": "stream",
          "text": [
            "enter your email address:letsupgrade@support.com\n",
            "support\n"
          ],
          "name": "stdout"
        }
      ]
    },
    {
      "cell_type": "markdown",
      "metadata": {
        "id": "_hQ2VsO9VBGF",
        "colab_type": "text"
      },
      "source": [
        "Question 2 :\n",
        "\n",
        "Write a program that accepts a comma-separated sequence of words as input and prints the words in a\n",
        "comma-separated sequence after sorting them alphabetically.\n",
        "Input Format:\n",
        "The first line of input contains words separated by the comma.\n",
        "Output Format:\n",
        "Print the sorted words separated by the comma.\n",
        "Example:\n",
        "Input:\n",
        "without,hello,bag,world\n",
        "Output:\n",
        "bag,hello,without,world"
      ]
    },
    {
      "cell_type": "code",
      "metadata": {
        "id": "1-E8AkJWVHnb",
        "colab_type": "code",
        "colab": {
          "base_uri": "https://localhost:8080/",
          "height": 84
        },
        "outputId": "d28e904c-677a-4a5b-8a38-e843eac1068e"
      },
      "source": [
        "str1= input(\"enter a comma-seperated sequence of words:\")\n",
        "\n",
        "a=str1.split(\",\")\n",
        "print(a)\n",
        "b= sorted(a)\n",
        "print(b)\n",
        "\n",
        "c=\",\".join(b)\n",
        "print(c)\n",
        "\n"
      ],
      "execution_count": 7,
      "outputs": [
        {
          "output_type": "stream",
          "text": [
            "enter a comma-seperated sequence of words:horse,mamoth,elephant,ant\n",
            "['horse', 'mamoth', 'elephant', 'ant']\n",
            "['ant', 'elephant', 'horse', 'mamoth']\n",
            "ant,elephant,horse,mamoth\n"
          ],
          "name": "stdout"
        }
      ]
    },
    {
      "cell_type": "markdown",
      "metadata": {
        "id": "uBpAwfuH5JE5",
        "colab_type": "text"
      },
      "source": [
        "Question 3:\n",
        "\n",
        "Create your own Notebook for Sets."
      ]
    },
    {
      "cell_type": "code",
      "metadata": {
        "id": "KZ7G9hROVriO",
        "colab_type": "code",
        "colab": {
          "base_uri": "https://localhost:8080/",
          "height": 118
        },
        "outputId": "cc17a8df-924b-4366-ac39-079c21dd5e80"
      },
      "source": [
        "set1={'apple',1,2,3,22.7}\n",
        "\n",
        "\n",
        "set1.add(\"orange\")\n",
        "print(set1)\n",
        "\n",
        "set1.update([\"hello\",\"bear\"])\n",
        "print(set1)\n",
        "\n",
        "print(len(set1))\n",
        "\n",
        "set1.remove(\"hello\")\n",
        "print(set1)\n",
        "\n",
        "set1.pop()\n",
        "print(set1)\n",
        "\n",
        "set2={5,6,7}\n",
        "set3= set1.union(set2)\n",
        "print(set3)"
      ],
      "execution_count": 23,
      "outputs": [
        {
          "output_type": "stream",
          "text": [
            "{'apple', 2, 3, 1, 'orange', 22.7}\n",
            "{'apple', 2, 3, 1, 'orange', 'hello', 22.7, 'bear'}\n",
            "8\n",
            "{'apple', 2, 3, 1, 'orange', 22.7, 'bear'}\n",
            "{2, 3, 1, 'orange', 22.7, 'bear'}\n",
            "{1, 2, 3, 'orange', 5, 22.7, 6, 7, 'bear'}\n"
          ],
          "name": "stdout"
        }
      ]
    },
    {
      "cell_type": "markdown",
      "metadata": {
        "id": "tXMaJVhM65Vx",
        "colab_type": "text"
      },
      "source": [
        "Question 4:\n",
        "\n",
        "Given a list of n-1 numbers ranging from 1 to n, your task is to find the missing number. There are no\n",
        "duplicates.\n",
        "Input Format:\n",
        "The first line contains n-1 numbers with each number separated by a space.\n",
        "Output Format:\n",
        "Print the missing number"
      ]
    },
    {
      "cell_type": "code",
      "metadata": {
        "id": "eOyZXC0g5qix",
        "colab_type": "code",
        "colab": {
          "base_uri": "https://localhost:8080/",
          "height": 67
        },
        "outputId": "e677d385-224d-49c8-92c6-732a1416a83e"
      },
      "source": [
        "a=\"1 2 4 5 7 8 9\"\n",
        "b=a.split()\n",
        "b=[int(i) for i in b]\n",
        "print(b)\n",
        "for i in range(len(b)-1):\n",
        "  if b[i+1]-b[i]!=1:\n",
        "    x=(b[i]+b[i+1])//2\n",
        "    print(x)"
      ],
      "execution_count": 30,
      "outputs": [
        {
          "output_type": "stream",
          "text": [
            "[1, 2, 4, 5, 7, 8, 9]\n",
            "3\n",
            "6\n"
          ],
          "name": "stdout"
        }
      ]
    },
    {
      "cell_type": "markdown",
      "metadata": {
        "id": "xGicui9aAtG5",
        "colab_type": "text"
      },
      "source": [
        "Question 5:\n",
        "\n",
        "With a given list L, write a program to print this list L after removing all duplicate values with original order\n",
        "reserved.\n",
        "Example:\n",
        "If the input list is\n",
        "12 24 35 24 88 120 155 88 120 155\n",
        "Then the output should be\n",
        "12 24 35 88 120 155"
      ]
    },
    {
      "cell_type": "code",
      "metadata": {
        "id": "6FH1FPjK9P0t",
        "colab_type": "code",
        "colab": {
          "base_uri": "https://localhost:8080/",
          "height": 67
        },
        "outputId": "9c2f12fd-e4b0-485f-b958-100ad89d2757"
      },
      "source": [
        "l=[12,24,35,24,88,120,155,88,120,155]\n",
        "print(l)\n",
        "a=set(l)\n",
        "print(a)\n",
        "b=sorted(a)\n",
        "print(b)"
      ],
      "execution_count": 38,
      "outputs": [
        {
          "output_type": "stream",
          "text": [
            "[12, 24, 35, 24, 88, 120, 155, 88, 120, 155]\n",
            "{35, 12, 155, 24, 88, 120}\n",
            "[12, 24, 35, 88, 120, 155]\n"
          ],
          "name": "stdout"
        }
      ]
    },
    {
      "cell_type": "code",
      "metadata": {
        "id": "n0ZmqY-aBHlC",
        "colab_type": "code",
        "colab": {}
      },
      "source": [
        ""
      ],
      "execution_count": null,
      "outputs": []
    }
  ]
}