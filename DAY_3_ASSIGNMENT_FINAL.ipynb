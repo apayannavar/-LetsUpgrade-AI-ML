{
  "nbformat": 4,
  "nbformat_minor": 0,
  "metadata": {
    "colab": {
      "name": "Untitled5.ipynb",
      "provenance": [],
      "collapsed_sections": []
    },
    "kernelspec": {
      "name": "python3",
      "display_name": "Python 3"
    }
  },
  "cells": [
    {
      "cell_type": "markdown",
      "metadata": {
        "id": "BSYJUy_3QZuA",
        "colab_type": "text"
      },
      "source": [
        "question no.1 \n",
        "\n",
        "Write a program to subtract two complex numbers in Python."
      ]
    },
    {
      "cell_type": "code",
      "metadata": {
        "id": "0b4uyuNGP5U_",
        "colab_type": "code",
        "colab": {
          "base_uri": "https://localhost:8080/",
          "height": 34
        },
        "outputId": "4a4066ec-7efc-44ab-c6c8-fdbeed46e99d"
      },
      "source": [
        "a = 6+4j\n",
        "b = 3+2j\n",
        "a-b"
      ],
      "execution_count": 10,
      "outputs": [
        {
          "output_type": "execute_result",
          "data": {
            "text/plain": [
              "(3+2j)"
            ]
          },
          "metadata": {
            "tags": []
          },
          "execution_count": 10
        }
      ]
    },
    {
      "cell_type": "code",
      "metadata": {
        "id": "6v0GbGgtP9YD",
        "colab_type": "code",
        "colab": {
          "base_uri": "https://localhost:8080/",
          "height": 34
        },
        "outputId": "616c28ce-c075-4b0d-be2e-22b2a7f4e34c"
      },
      "source": [
        "type(a)"
      ],
      "execution_count": 7,
      "outputs": [
        {
          "output_type": "execute_result",
          "data": {
            "text/plain": [
              "complex"
            ]
          },
          "metadata": {
            "tags": []
          },
          "execution_count": 7
        }
      ]
    },
    {
      "cell_type": "code",
      "metadata": {
        "id": "3eLcrjcwQDbJ",
        "colab_type": "code",
        "colab": {
          "base_uri": "https://localhost:8080/",
          "height": 68
        },
        "outputId": "eb609808-77c1-4462-8c07-1411b038e54a"
      },
      "source": [
        "complex_1 = complex(input(\"Enter the first complex number in 'a+bj' format :\"))\n",
        "complex_2 = complex(input(\"Enter ther second complex number in 'a+bj' format :\"))\n",
        "\n",
        "z = complex_1 - complex_2\n",
        "\n",
        "print(\"the subtraction of the complex number is \",z)"
      ],
      "execution_count": 12,
      "outputs": [
        {
          "output_type": "stream",
          "text": [
            "Enter the first complex number in 'a+bj' format :6+4j\n",
            "Enter ther second complex number in 'a+bj' format :3+2j\n",
            "the subtraction of the complex number is  (3+2j)\n"
          ],
          "name": "stdout"
        }
      ]
    },
    {
      "cell_type": "markdown",
      "metadata": {
        "id": "bGA5jbkjRH6S",
        "colab_type": "text"
      },
      "source": [
        "Question no. 2\n",
        "\n",
        "Write a program to find the fourth root of a number"
      ]
    },
    {
      "cell_type": "code",
      "metadata": {
        "id": "gc9scvGZRUFx",
        "colab_type": "code",
        "colab": {
          "base_uri": "https://localhost:8080/",
          "height": 51
        },
        "outputId": "7e5647ad-0e81-4d69-e71d-b951c77bc32e"
      },
      "source": [
        "num = int(input(\"Enter a number : \"))\n",
        "\n",
        "result = num**(1/4)\n",
        "\n",
        "print(\"print 4th root of the number is \", result)"
      ],
      "execution_count": 13,
      "outputs": [
        {
          "output_type": "stream",
          "text": [
            "Enter a number : 256\n",
            "print 4th root of the number is  4.0\n"
          ],
          "name": "stdout"
        }
      ]
    },
    {
      "cell_type": "markdown",
      "metadata": {
        "id": "orBsyu8fZgNw",
        "colab_type": "text"
      },
      "source": [
        "Question no.3\n",
        "\n",
        "Write a program to swap two numbers in Python with the help of a temporary variable."
      ]
    },
    {
      "cell_type": "code",
      "metadata": {
        "id": "NOoaaTzKZwvN",
        "colab_type": "code",
        "colab": {
          "base_uri": "https://localhost:8080/",
          "height": 102
        },
        "outputId": "4cdb20ce-754b-425e-80ec-db34a8d3142d"
      },
      "source": [
        "h= int(input(\"Enter first number : \"))\n",
        "g= int(input(\"Enter second number : \"))\n",
        "\n",
        "temp = h\n",
        "h = g \n",
        "g = temp\n",
        "\n",
        "print(\"the swapped numbers are \")\n",
        "print(\"h = \",h)\n",
        "print(\"g = \",g)"
      ],
      "execution_count": 23,
      "outputs": [
        {
          "output_type": "stream",
          "text": [
            "Enter first number : 1\n",
            "Enter second number : 2\n",
            "the swapped numbers are \n",
            "h =  2\n",
            "g =  1\n"
          ],
          "name": "stdout"
        }
      ]
    },
    {
      "cell_type": "markdown",
      "metadata": {
        "id": "lpE4G_gTbxiK",
        "colab_type": "text"
      },
      "source": [
        "Question no.4\n",
        "\n",
        "Write a program to swap two numbers in Python without using a temporary variable."
      ]
    },
    {
      "cell_type": "code",
      "metadata": {
        "id": "wGhA9JEYb4z8",
        "colab_type": "code",
        "colab": {
          "base_uri": "https://localhost:8080/",
          "height": 102
        },
        "outputId": "5d021d84-e9f8-4a53-ae87-9d4d5de91120"
      },
      "source": [
        "m= int(input(\"Enter first number : \"))\n",
        "n= int(input(\"Enter second number : \"))\n",
        "\n",
        "m,n=n,m \n",
        "\n",
        "print(\"the swapped numbers are \")\n",
        "print(\"m = \",m)\n",
        "print(\"n = \",n)"
      ],
      "execution_count": 24,
      "outputs": [
        {
          "output_type": "stream",
          "text": [
            "Enter first number : 1\n",
            "Enter second number : 2\n",
            "the swapped numbers are \n",
            "m =  2\n",
            "n =  1\n"
          ],
          "name": "stdout"
        }
      ]
    },
    {
      "cell_type": "markdown",
      "metadata": {
        "id": "gWbd9x09dmgi",
        "colab_type": "text"
      },
      "source": [
        "Question no.5\n",
        "\n",
        "Write a program to convert Fahrenheit to kelvin and celsius both."
      ]
    },
    {
      "cell_type": "code",
      "metadata": {
        "id": "wMYfU7KAd7W7",
        "colab_type": "code",
        "colab": {
          "base_uri": "https://localhost:8080/",
          "height": 68
        },
        "outputId": "278d6015-6678-41af-f90e-2d4c2c9e8802"
      },
      "source": [
        "f= int(input(\"Fahrenheit : \"))\n",
        "\n",
        "d=input(\"type 'A' to convert into celcius or type 'B' to convert into kelvin :\")\n",
        "\n",
        "if d=='B':\n",
        "  result = 273.5 + ((f - 32.0) * (5.0/9.0))\n",
        "  print(\"Kelvin : \",result)\n",
        "elif d=='A':\n",
        "  result = (f - 32) * 5 / 9\n",
        "  print(\"Celcius : \",result)\n",
        "else:\n",
        "  print(\"wrong input\")\n",
        "\n"
      ],
      "execution_count": 28,
      "outputs": [
        {
          "output_type": "stream",
          "text": [
            "Fahrenheit : 100\n",
            "type 'A' to convert into celcius or type 'B' to convert into kelvin :c\n",
            "wrong input\n"
          ],
          "name": "stdout"
        }
      ]
    },
    {
      "cell_type": "markdown",
      "metadata": {
        "id": "ET4e1TXhgttl",
        "colab_type": "text"
      },
      "source": [
        "Question no. 6\n",
        "\n",
        "Write a program to demonstrate all the available data types in Python. Hint: Use type() function."
      ]
    },
    {
      "cell_type": "code",
      "metadata": {
        "id": "M1KdQQuCg_yx",
        "colab_type": "code",
        "colab": {
          "base_uri": "https://localhost:8080/",
          "height": 34
        },
        "outputId": "5e61b2ea-cb24-4412-9bc3-89e634755881"
      },
      "source": [
        "lst1 = [1,2,3]\n",
        "type(lst1)"
      ],
      "execution_count": 34,
      "outputs": [
        {
          "output_type": "execute_result",
          "data": {
            "text/plain": [
              "list"
            ]
          },
          "metadata": {
            "tags": []
          },
          "execution_count": 34
        }
      ]
    },
    {
      "cell_type": "code",
      "metadata": {
        "id": "gZ-v6Y_ehSFp",
        "colab_type": "code",
        "colab": {
          "base_uri": "https://localhost:8080/",
          "height": 34
        },
        "outputId": "54a5c73d-79f3-4ebe-96c5-6b54e9ef647f"
      },
      "source": [
        "str1 = \"lets upgrade AI-ML\"\n",
        "type(str1)"
      ],
      "execution_count": 32,
      "outputs": [
        {
          "output_type": "execute_result",
          "data": {
            "text/plain": [
              "str"
            ]
          },
          "metadata": {
            "tags": []
          },
          "execution_count": 32
        }
      ]
    },
    {
      "cell_type": "code",
      "metadata": {
        "id": "QFyZToCqhbJV",
        "colab_type": "code",
        "colab": {
          "base_uri": "https://localhost:8080/",
          "height": 34
        },
        "outputId": "cf1209d3-0b3e-4d68-d9e3-1a5964ac5c14"
      },
      "source": [
        "tup1 = (1,2,3)\n",
        "type(tup1)"
      ],
      "execution_count": 33,
      "outputs": [
        {
          "output_type": "execute_result",
          "data": {
            "text/plain": [
              "tuple"
            ]
          },
          "metadata": {
            "tags": []
          },
          "execution_count": 33
        }
      ]
    },
    {
      "cell_type": "code",
      "metadata": {
        "id": "73q5lu_4hh8C",
        "colab_type": "code",
        "colab": {
          "base_uri": "https://localhost:8080/",
          "height": 34
        },
        "outputId": "c3683f56-56f3-4b60-ec30-e2e29f07be74"
      },
      "source": [
        "dict1= {'key1':'hello','key2':'hi'}\n",
        "type(dict1)"
      ],
      "execution_count": 40,
      "outputs": [
        {
          "output_type": "execute_result",
          "data": {
            "text/plain": [
              "dict"
            ]
          },
          "metadata": {
            "tags": []
          },
          "execution_count": 40
        }
      ]
    },
    {
      "cell_type": "code",
      "metadata": {
        "id": "lXCC_Xawh8CI",
        "colab_type": "code",
        "colab": {}
      },
      "source": [
        ""
      ],
      "execution_count": null,
      "outputs": []
    }
  ]
}