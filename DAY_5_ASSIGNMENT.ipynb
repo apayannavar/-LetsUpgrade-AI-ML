{
  "nbformat": 4,
  "nbformat_minor": 0,
  "metadata": {
    "colab": {
      "name": "DAY_5_ASSIGNMENT.ipynb",
      "provenance": [],
      "collapsed_sections": []
    },
    "kernelspec": {
      "name": "python3",
      "display_name": "Python 3"
    }
  },
  "cells": [
    {
      "cell_type": "markdown",
      "metadata": {
        "id": "sYbEDM5QTwhJ",
        "colab_type": "text"
      },
      "source": [
        "\n",
        "Question 1 :\n",
        "\n",
        "Write a Python program to find the first 20 non-even prime natural numbers.\n",
        "\n",
        "\n",
        "\n",
        "\n",
        "\n"
      ]
    },
    {
      "cell_type": "code",
      "metadata": {
        "id": "lobhiHmWTPNX",
        "colab_type": "code",
        "colab": {
          "base_uri": "https://localhost:8080/",
          "height": 1000
        },
        "outputId": "ca649d87-8324-4d5d-d9f3-e6a362e878f5"
      },
      "source": [
        "num = list(range(1,76)) \n",
        "print(num)\n",
        "b=[]\n",
        "\n",
        "for i in num:\n",
        "  if (i > 1):  \n",
        "   for j in range(2,i):  \n",
        "       if (i % j) == 0:  \n",
        "           print(i,\"is not a prime number\")    \n",
        "           break  \n",
        "   else:\n",
        "       b.append(i)\n",
        "       print(i,\"is a prime number\")  \n",
        "         \n",
        "else:  \n",
        "   print(i,\"is not a prime number\")\n",
        "print(b) \n",
        "\n",
        "for x in b:\n",
        "  if x%2!=0:\n",
        "    print(\"top 20 non even prime numbers are \",x)"
      ],
      "execution_count": null,
      "outputs": [
        {
          "output_type": "stream",
          "text": [
            "[1, 2, 3, 4, 5, 6, 7, 8, 9, 10, 11, 12, 13, 14, 15, 16, 17, 18, 19, 20, 21, 22, 23, 24, 25, 26, 27, 28, 29, 30, 31, 32, 33, 34, 35, 36, 37, 38, 39, 40, 41, 42, 43, 44, 45, 46, 47, 48, 49, 50, 51, 52, 53, 54, 55, 56, 57, 58, 59, 60, 61, 62, 63, 64, 65, 66, 67, 68, 69, 70, 71, 72, 73, 74, 75]\n",
            "2 is a prime number\n",
            "3 is a prime number\n",
            "4 is not a prime number\n",
            "5 is a prime number\n",
            "6 is not a prime number\n",
            "7 is a prime number\n",
            "8 is not a prime number\n",
            "9 is not a prime number\n",
            "10 is not a prime number\n",
            "11 is a prime number\n",
            "12 is not a prime number\n",
            "13 is a prime number\n",
            "14 is not a prime number\n",
            "15 is not a prime number\n",
            "16 is not a prime number\n",
            "17 is a prime number\n",
            "18 is not a prime number\n",
            "19 is a prime number\n",
            "20 is not a prime number\n",
            "21 is not a prime number\n",
            "22 is not a prime number\n",
            "23 is a prime number\n",
            "24 is not a prime number\n",
            "25 is not a prime number\n",
            "26 is not a prime number\n",
            "27 is not a prime number\n",
            "28 is not a prime number\n",
            "29 is a prime number\n",
            "30 is not a prime number\n",
            "31 is a prime number\n",
            "32 is not a prime number\n",
            "33 is not a prime number\n",
            "34 is not a prime number\n",
            "35 is not a prime number\n",
            "36 is not a prime number\n",
            "37 is a prime number\n",
            "38 is not a prime number\n",
            "39 is not a prime number\n",
            "40 is not a prime number\n",
            "41 is a prime number\n",
            "42 is not a prime number\n",
            "43 is a prime number\n",
            "44 is not a prime number\n",
            "45 is not a prime number\n",
            "46 is not a prime number\n",
            "47 is a prime number\n",
            "48 is not a prime number\n",
            "49 is not a prime number\n",
            "50 is not a prime number\n",
            "51 is not a prime number\n",
            "52 is not a prime number\n",
            "53 is a prime number\n",
            "54 is not a prime number\n",
            "55 is not a prime number\n",
            "56 is not a prime number\n",
            "57 is not a prime number\n",
            "58 is not a prime number\n",
            "59 is a prime number\n",
            "60 is not a prime number\n",
            "61 is a prime number\n",
            "62 is not a prime number\n",
            "63 is not a prime number\n",
            "64 is not a prime number\n",
            "65 is not a prime number\n",
            "66 is not a prime number\n",
            "67 is a prime number\n",
            "68 is not a prime number\n",
            "69 is not a prime number\n",
            "70 is not a prime number\n",
            "71 is a prime number\n",
            "72 is not a prime number\n",
            "73 is a prime number\n",
            "74 is not a prime number\n",
            "75 is not a prime number\n",
            "75 is not a prime number\n",
            "[2, 3, 5, 7, 11, 13, 17, 19, 23, 29, 31, 37, 41, 43, 47, 53, 59, 61, 67, 71, 73]\n",
            "top 20 non even prime numbers are  3\n",
            "top 20 non even prime numbers are  5\n",
            "top 20 non even prime numbers are  7\n",
            "top 20 non even prime numbers are  11\n",
            "top 20 non even prime numbers are  13\n",
            "top 20 non even prime numbers are  17\n",
            "top 20 non even prime numbers are  19\n",
            "top 20 non even prime numbers are  23\n",
            "top 20 non even prime numbers are  29\n",
            "top 20 non even prime numbers are  31\n",
            "top 20 non even prime numbers are  37\n",
            "top 20 non even prime numbers are  41\n",
            "top 20 non even prime numbers are  43\n",
            "top 20 non even prime numbers are  47\n",
            "top 20 non even prime numbers are  53\n",
            "top 20 non even prime numbers are  59\n",
            "top 20 non even prime numbers are  61\n",
            "top 20 non even prime numbers are  67\n",
            "top 20 non even prime numbers are  71\n",
            "top 20 non even prime numbers are  73\n"
          ],
          "name": "stdout"
        }
      ]
    },
    {
      "cell_type": "markdown",
      "metadata": {
        "id": "bLBc6VUyFHLL",
        "colab_type": "text"
      },
      "source": [
        "Question 2 :\n",
        "\n",
        "Write a Python program to implement 15 functions of string."
      ]
    },
    {
      "cell_type": "code",
      "metadata": {
        "id": "aff2YnaNFNOL",
        "colab_type": "code",
        "colab": {
          "base_uri": "https://localhost:8080/",
          "height": 591
        },
        "outputId": "39c9a1d4-f899-457c-cb5a-72f0658e90db"
      },
      "source": [
        "print(\"implementing 15 funtions of string\")\n",
        "\n",
        "a=\"LetS uPgraDe!!!\"\n",
        "print(\"\\nmy input string is --->\",a)\n",
        "\n",
        "x= a.capitalize()\n",
        "print(\"\\nConverts the first character to upper case--->\",x)\n",
        "\n",
        "x= a.casefold()\n",
        "print(\"\\nConverts string into lower case--->\",x)\n",
        "\n",
        "x= a.count('e')\n",
        "print(\"\\nReturns the number of times a specified value occurs in a string--->\",x)\n",
        "\n",
        "x= a.encode()\n",
        "print(\"\\nReturns an encoded version of the string--->\",x)\n",
        "\n",
        "x= a.endswith('?')\n",
        "print(\"\\nReturns true if the string ends with the specified value--->\",x)\n",
        "\n",
        "x= a.find('u')\n",
        "print(\"\\nSearches the string for a specified value and returns the position of where it was found--->\",x)\n",
        "\n",
        "x= a.isalnum()\n",
        "print(\"\\nReturns True if all characters in the string are alphanumeric--->\",x)\n",
        "\n",
        "x= a.isalpha()\n",
        "print(\"\\nReturns True if all characters in the string are alphabets--->\",x)\n",
        "\n",
        "x= a.isdecimal()\n",
        "print(\"\\nReturns True if all characters in the string are decimal--->\",x)\n",
        "\n",
        "x= a.isdigit()\n",
        "print(\"\\nReturns True if all characters in the string are digits--->\",x)\n",
        "\n",
        "x= a.islower()\n",
        "print(\"\\nReturns True if all characters in the string are lower case--->\",x)\n",
        "\n",
        "x= a.isupper()\n",
        "print(\"\\nReturns True if all characters in the string are upper case--->\",x)\n",
        "\n",
        "x= a.join('aI-ML')\n",
        "print(\"\\nJoins the elements of an iterable to the end of the string--->\",x)\n",
        "\n",
        "x= a.isspace()\n",
        "print(\"\\nReturns True if all characters in the string are whitespaces--->\",x)\n",
        "\n",
        "x= a.isprintable()\n",
        "print(\"\\nReturns True if all characters in the string are printable--->\",x)"
      ],
      "execution_count": null,
      "outputs": [
        {
          "output_type": "stream",
          "text": [
            "implementing 15 funtions of string\n",
            "\n",
            "my input string is ---> LetS uPgraDe!!!\n",
            "\n",
            "Converts the first character to upper case---> Lets upgrade!!!\n",
            "\n",
            "Converts string into lower case---> lets upgrade!!!\n",
            "\n",
            "Returns the number of times a specified value occurs in a string---> 2\n",
            "\n",
            "Returns an encoded version of the string---> b'LetS uPgraDe!!!'\n",
            "\n",
            "Returns true if the string ends with the specified value---> False\n",
            "\n",
            "Searches the string for a specified value and returns the position of where it was found---> 5\n",
            "\n",
            "Returns True if all characters in the string are alphanumeric---> False\n",
            "\n",
            "Returns True if all characters in the string are alphabets---> False\n",
            "\n",
            "Returns True if all characters in the string are decimal---> False\n",
            "\n",
            "Returns True if all characters in the string are digits---> False\n",
            "\n",
            "Returns True if all characters in the string are lower case---> False\n",
            "\n",
            "Returns True if all characters in the string are upper case---> False\n",
            "\n",
            "Joins the elements of an iterable to the end of the string---> aLetS uPgraDe!!!ILetS uPgraDe!!!-LetS uPgraDe!!!MLetS uPgraDe!!!L\n",
            "\n",
            "Returns True if all characters in the string are whitespaces---> False\n",
            "\n",
            "Returns True if all characters in the string are printable---> True\n"
          ],
          "name": "stdout"
        }
      ]
    },
    {
      "cell_type": "markdown",
      "metadata": {
        "id": "GJF_s9j4JGY0",
        "colab_type": "text"
      },
      "source": [
        "Question 3:\n",
        "\n",
        "Write a Python program to check if the given string is a Palindrome or Anagram or None of them. Display\n",
        "the message accordingly to the user."
      ]
    },
    {
      "cell_type": "code",
      "metadata": {
        "id": "Jmfr07AEJISI",
        "colab_type": "code",
        "colab": {
          "base_uri": "https://localhost:8080/",
          "height": 84
        },
        "outputId": "4ef62479-3b9b-4792-86b5-bf421511eaaa"
      },
      "source": [
        "a=input(\"enter string 1:\")\n",
        "b=input(\"enter string 2:\")\n",
        "\n",
        "if a==a[::-1]:\n",
        "  print(\"String 1 which is {} is a palindrome\".format(a))\n",
        "  \n",
        "elif b==b[::-1]:\n",
        "  print(\"string 1 which is {} is a palindrome\".format(b))\n",
        "elif (sorted(a)==sorted(b)):\n",
        "  print(\"Both strings form an anagram\")\n",
        "else:\n",
        "  print(\"Neither palindrome nor anagram\")\n",
        "\n",
        "if b==b[::-1]:\n",
        "  print(\"string 2 which is {} is a palindrome\".format(b))"
      ],
      "execution_count": null,
      "outputs": [
        {
          "output_type": "stream",
          "text": [
            "enter string 1:mam\n",
            "enter string 2:madam\n",
            "String 1 which is mam is a palindrome\n",
            "string 2 which is madam is a palindrome\n"
          ],
          "name": "stdout"
        }
      ]
    },
    {
      "cell_type": "markdown",
      "metadata": {
        "id": "H93er9gLRoHF",
        "colab_type": "text"
      },
      "source": [
        "Question 4:\n",
        "\n",
        "Write a Python's user-defined function that removes all the additional characters from the string and\n",
        "convert it finally to lower case using built-in lower(). eg: If the string is \"Dr. Darshan Ingle @AIML Trainer\",\n",
        "then the output be \"drdarshaningleaimltrainer\"."
      ]
    },
    {
      "cell_type": "code",
      "metadata": {
        "id": "Epzf7_wlRDtz",
        "colab_type": "code",
        "colab": {
          "base_uri": "https://localhost:8080/",
          "height": 34
        },
        "outputId": "a79ec446-bb01-431f-dd33-34bb5410fce9"
      },
      "source": [
        "a= \"Dr.Darshan @gmail\"\n",
        "sign = ['!','@','#','$','%','^','*','?',' ']\n",
        "for i in sign:\n",
        "  a=a.split(i)\n",
        "  a=\"\".join(a)\n",
        "  \n",
        "print(a)\n",
        "  \n"
      ],
      "execution_count": 8,
      "outputs": [
        {
          "output_type": "stream",
          "text": [
            "Dr.Darshangmail\n"
          ],
          "name": "stdout"
        }
      ]
    },
    {
      "cell_type": "code",
      "metadata": {
        "id": "ICrxiwPhCqck",
        "colab_type": "code",
        "colab": {}
      },
      "source": [
        ""
      ],
      "execution_count": null,
      "outputs": []
    }
  ]
}